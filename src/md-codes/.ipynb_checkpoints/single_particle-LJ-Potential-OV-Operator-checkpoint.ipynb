{
 "cells": [
  {
   "cell_type": "markdown",
   "metadata": {},
   "source": [
    "# Define vector 3D class"
   ]
  },
  {
   "cell_type": "code",
   "execution_count": 1,
   "metadata": {},
   "outputs": [],
   "source": [
    "import math\n",
    "import numpy as np\n",
    "\n",
    "class Vector3D:\n",
    "    def __init__(self, initial_x = 0.0, initial_y = 0.0, initial_z = 0.0):\n",
    "        self.x = initial_x\n",
    "        self.y = initial_y\n",
    "        self.z = initial_z\n",
    "    \n",
    "    def magnitude(self):\n",
    "        return math.sqrt(self.x**2 + self.y**2 + self.z**2)\n",
    "    \n",
    "    def sqd_magnitude(self):\n",
    "        return self.x**2 + self.y**2 + self.z**2\n",
    "    \n",
    "    # Operator overloading for adding two vecs  \n",
    "    def __add__(self, v):\n",
    "        return Vector3D(self.x + v.x, self.y + v.y, self.z + v.z)\n",
    "    \n",
    "    def __mul__(self, multiplier):\n",
    "        if isinstance(multiplier, type(self)):\n",
    "            return Vector3D(self.x*multiplier.x, self.y*multiplier.y, self.z*multiplier.z)\n",
    "        else:\n",
    "            return Vector3D(self.x*multiplier, self.y*multiplier, self.z*multiplier)\n",
    "            \n",
    "    def __rmul__(self, multiplier):\n",
    "        return self.__mul__(multiplier)\n",
    "    \n",
    "    def __truediv__(self, divisor):\n",
    "        if isinstance(divisor, type(self)):\n",
    "            return Vector3D(self.x/divisor.x, self.y/divisor.y, self.z/divisor.z)\n",
    "        else:\n",
    "            return Vector3D(self.x/divisor, self.y/divisor, self.z/divisor)\n",
    "    \n",
    "    def __sub__(self, v):\n",
    "        return Vector3D(self.x - v.x, self.y - v.y, self.z - v.z)\n",
    "    \n",
    "    def __eq__(self, other):\n",
    "        if isinstance(other, Vector3D):\n",
    "            return self.x == other.x and self.y == other.y and self.z == other.z\n",
    "    \n",
    "    #printing overloaded\n",
    "    def __str__(self): \n",
    "        return \"x=\" + str(self.x) + \", y=\" + str(self.y) + \", z=\" + str(self.z)\n"
   ]
  },
  {
   "cell_type": "markdown",
   "metadata": {},
   "source": [
    "# Define Particle class"
   ]
  },
  {
   "cell_type": "code",
   "execution_count": 2,
   "metadata": {},
   "outputs": [],
   "source": [
    "import math\n",
    "\n",
    "class Particle:\n",
    "    \n",
    "    def __init__(self, initial_m = 1.0, diameter = 2.0, initial_position = Vector3D(0.0, 0.0, 0.0), initial_velocity = Vector3D(0.0, 0.0, 0.0)):\n",
    "        self.m = initial_m\n",
    "        self.d = diameter\n",
    "        self.position = Vector3D(initial_position.x, 0.0, 0.0)\n",
    "        self.position_with_ov = Vector3D(initial_position.x, 0.0, 0.0)\n",
    "        self.position_with_ov_op = Vector3D(initial_position.x, 0.0, 0.0)\n",
    "        self.prev_position_ov = Vector3D(initial_position.x, 0.0, 0.0)\n",
    "        self.prev_position = Vector3D(initial_position.x, 0.0, 0.0)\n",
    "        self.prev2_position = Vector3D(initial_position.x, 0.0, 0.0)       \n",
    "        self.velocity = Vector3D(initial_velocity.x, 0.0, 0.0)\n",
    "        self.velocity_ov_op = Vector3D(initial_velocity.x, 0.0, 0.0)\n",
    "        self.sigma = 1.0\n",
    "        self.eps = 1.0\n",
    "        \n",
    "    def volume(self):\n",
    "        self.volume = (4.0/3.0) * math.pi * ((self.d/2.0)**3)\n",
    "    \n",
    "    def update_position(self, dt):\n",
    "         self.position = self.position + (self.velocity * dt)\n",
    "            \n",
    "    def get_force_on_block(self):\n",
    "        #self.force = self.position * -1.0 * k\n",
    "        #temp = Vector3D(0.0, 0.0, 0.0)\n",
    "        #temp.x = 48 * self.eps * ( ((self.sigma)**12/(self.position.x **13)) - (0.5*(self.sigma)**6/(self.position.x **7)) )\n",
    "        #self.force = temp\n",
    "        # consider a fixed particle in 0, 0, 0\n",
    "        rvec = self.position - Vector3D(0.0, 0.0, 0.0)\n",
    "        r = rvec.magnitude()\n",
    "        self.force = rvec * 48 * self.eps * (1/r**2) * ( ((self.sigma**12)/(r**12)) - (0.5*(self.sigma**6)/(r**6)) )\n",
    "\n",
    "    def update_velocity(self, dt):\n",
    "         self.velocity = self.velocity + (self.force * (dt / self.m))        \n",
    "\n",
    "    def kinetic_energy(self):\n",
    "         self.ke = 0.5 * self.m * (self.velocity.magnitude()**2)\n",
    "            \n",
    "    def get_energy_on_block(self):\n",
    "        #self.pe = 0.5 * k * (self.position.x **2)\n",
    "        # consider a fixed particle in 0, 0, 0\n",
    "        r = (self.position - Vector3D(0.0, 0.0, 0.0)).magnitude()\n",
    "        self.pe =  4 * self.eps * ( ((self.sigma**12)/(r**12)) - ((self.sigma**6)/(r**6)) )\n",
    "        "
   ]
  },
  {
   "cell_type": "markdown",
   "metadata": {},
   "source": [
    "# Velocity verlet code"
   ]
  },
  {
   "cell_type": "code",
   "execution_count": 3,
   "metadata": {},
   "outputs": [],
   "source": [
    "import math\n",
    "import time\n",
    "\n",
    "def velocity_verlet(mass=None, initial_pos=2.0, time=100, deltaT=0.01):\n",
    "    \n",
    "    print(\"Modeling the block-spring system\")\n",
    "    print(\"Need a useful abstraction of the problem: a point particle\")\n",
    "    print(\"Make a Particle class\")\n",
    "    print(\"Set up initial conditions\")\n",
    "\n",
    "    \n",
    "    sphere = Particle(initial_m = 1.0, diameter = 2.0, initial_position = Vector3D(0.0, 0.0, 0.0), initial_velocity = Vector3D(0.0, 0.0, 0.0))\n",
    "    sphere_volume = sphere.volume()\n",
    "    print(\"volume of a unit (radius = 1) sphere is {}\".format(sphere_volume))\n",
    "    \n",
    "    # inputs\n",
    "    if mass is None:\n",
    "        print(\"enter mass of the block: \")\n",
    "        time.sleep(0.1) # This sleep is not needed, just added to get input box below the print statements\n",
    "        mass = float(input())\n",
    "    \n",
    "    block = Particle(initial_m = mass, diameter = 2.0, initial_position = Vector3D(initial_pos, 0.0, 0.0), initial_velocity = Vector3D(0.0, 0.0, 0.0));\n",
    "    \n",
    "    # we can compute the initial force on the block\n",
    "    block.get_force_on_block()\n",
    "\n",
    "    #Print the system\n",
    "    print(\"mass of the block is {}\".format(block.m))\n",
    "    print(\"initial position of the block is {}\".format(block.position.x))\n",
    "    print(\"initial velocity of the block is {}\".format(block.velocity.x))\n",
    "    print(\"initial force on the block is {}\".format(block.force.x))\n",
    "     \n",
    "    t = time\n",
    "    dt=deltaT\n",
    "    S = int(t // dt)\n",
    "\n",
    "    #simulation Begins here\n",
    "    simulated_result = open(\"data/dynamics_mass={}_x0={:.1f}_t={}_deltaT={}.out\".format(mass,initial_pos,t, dt), \"w\")\n",
    "    block.get_energy_on_block()\n",
    "    block.kinetic_energy()\n",
    "    simulated_result.write(\"{0:.3f}  {1:.3f}  {2:.3f}  {3:.3f}  {4:.3f}  {5:.3f} \\n\".format(0*dt, block.position.x, block.velocity.x, block.ke, block.pe, (block.ke + block.pe)))\n",
    "     \n",
    "    for i in range(S):\n",
    "        block.update_velocity(dt/2.0) #update velocity half timestep\n",
    "        block.update_position(dt) #update position full timestep\n",
    "        block.get_force_on_block()\n",
    "        block.update_velocity(dt/2.0)\n",
    "        #filing the time, position of the block\n",
    "        block.kinetic_energy()\n",
    "        block.get_energy_on_block()\n",
    "        simulated_result.write(\"{0:.3f}  {1:.3f}  {2:.3f}  {3:.3f}  {4:.3f}  {5:.3f} \\n\".format((i+1)*dt, block.position.x, block.velocity.x, block.ke, block.pe, (block.ke + block.pe)))\n",
    "    \n",
    "    simulated_result.close() \n",
    "    print(\"Simulation is over.\")"
   ]
  },
  {
   "cell_type": "markdown",
   "metadata": {},
   "source": [
    "# Run the code"
   ]
  },
  {
   "cell_type": "code",
   "execution_count": 4,
   "metadata": {},
   "outputs": [
    {
     "name": "stdout",
     "output_type": "stream",
     "text": [
      "Modeling the block-spring system\n",
      "Need a useful abstraction of the problem: a point particle\n",
      "Make a Particle class\n",
      "Set up initial conditions\n",
      "volume of a unit (radius = 1) sphere is None\n",
      "mass of the block is 1.0\n",
      "initial position of the block is 2.0\n",
      "initial velocity of the block is 0.0\n",
      "initial force on the block is -0.181640625\n",
      "Simulation is over.\n",
      "Time: 0.1527080535888672\n"
     ]
    }
   ],
   "source": [
    "import time\n",
    "start = time.time()\n",
    "\n",
    "# Run the program\n",
    "# mass=1.0, initial_pos=1.0, time=100, deltaT=0.01\n",
    "params__ = (1.0, 2.0, 10, 0.001)\n",
    "velocity_verlet(*params__)\n",
    "\n",
    "end = time.time()\n",
    "print(\"Time: \"+str(end - start))"
   ]
  },
  {
   "cell_type": "markdown",
   "metadata": {},
   "source": [
    "# Plot the graphs"
   ]
  },
  {
   "cell_type": "code",
   "execution_count": 7,
   "metadata": {},
   "outputs": [
    {
     "data": {
      "text/plain": [
       "<matplotlib.legend.Legend at 0x216e1158348>"
      ]
     },
     "execution_count": 7,
     "metadata": {},
     "output_type": "execute_result"
    },
    {
     "data": {
      "image/png": "[encoded data removed]",
      "text/plain": [
       "<Figure size 864x432 with 1 Axes>"
      ]
     },
     "metadata": {
      "needs_background": "light"
     },
     "output_type": "display_data"
    }
   ],
   "source": [
    "# Visualize the data\n",
    "'''\n",
    "GNUPlot\n",
    "plot 'exact_dynamics.out' with lines, 'simulated_dynamics.out' using 1:2 with lp pt 6 title \"position\", 'simulated_dynamics.out' using 1:3 with p pt 4 title \"velocity\", 'simulated_dynamics.out' u 1:4 w p title \"kinetic\", 'simulated_dynamics.out' u 1:5 w p title \"potential\", \"simulated_dynamics.out\" u 1:6 w p title \"total\"\n",
    "'''\n",
    "\n",
    "import matplotlib.pyplot as plt\n",
    "#%matplotlib notebook\n",
    "%matplotlib inline\n",
    "\n",
    "import numpy as np\n",
    "\n",
    "simulated_result_file = np.loadtxt(\"data/dynamics_mass={}_x0={}_t={}_deltaT={}.out\".format(*params__))\n",
    "\n",
    "fig=plt.figure(figsize=(12, 6))\n",
    "\n",
    "#plt.plot(exact_dynamics_file[:,0],exact_dynamics_file[:,1],'r+', label='exact_dynamics', linewidth=1, markersize=3, linestyle='dashed')\n",
    "plt.plot(simulated_result_file[:,0],simulated_result_file[:,1], label='position')\n",
    "#plt.plot(simulated_result_file[:,0],simulated_result_file[:,2], label='velocity')\n",
    "#plt.plot(simulated_result_file[:,0],simulated_result_file[:,3], label='kinetic')\n",
    "#plt.plot(simulated_result_file[:,0],simulated_result_file[:,4], label='potential')\n",
    "#plt.plot(simulated_result_file[:,0],simulated_result_file[:,5], label='total')\n",
    "plt.legend()\n",
    "\n"
   ]
  }
 ],
 "metadata": {
  "kernelspec": {
   "display_name": "Python 3",
   "language": "python",
   "name": "python3"
  },
  "language_info": {
   "codemirror_mode": {
    "name": "ipython",
    "version": 3
   },
   "file_extension": ".py",
   "mimetype": "text/x-python",
   "name": "python",
   "nbconvert_exporter": "python",
   "pygments_lexer": "ipython3",
   "version": "3.7.4"
  }
 },
 "nbformat": 4,
 "nbformat_minor": 2
}
